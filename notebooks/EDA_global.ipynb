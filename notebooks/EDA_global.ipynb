{
 "cells": [
  {
   "cell_type": "markdown",
   "id": "a7927b04",
   "metadata": {},
   "source": [
    "# Global Features EDA"
   ]
  },
  {
   "cell_type": "code",
   "execution_count": null,
   "id": "cb7c7a4e",
   "metadata": {},
   "outputs": [],
   "source": [
    "\n",
    "import re\n",
    "from pathlib import Path\n",
    "import numpy as np\n",
    "import pandas as pd\n",
    "import matplotlib.pyplot as plt\n",
    "import seaborn as sns\n",
    "from scipy import io, stats\n",
    "\n",
    "%matplotlib inline\n",
    "\n",
    "data_dir = Path('../data/processed/GlobalFeatures')\n",
    "files = sorted(data_dir.glob('*.mat'))\n",
    "\n",
    "def load_global(path):\n",
    "    return io.loadmat(path, squeeze_me=True)['globalFeatures']\n",
    "\n",
    "vectors = [load_global(p) for p in files]\n",
    "pattern = re.compile(r'u(\\d+)s(\\d+)')\n",
    "users, sessions = zip(*[pattern.search(p.stem).groups() for p in files]) if files else ([], [])\n",
    "\n",
    "df = pd.DataFrame(vectors, columns=[f'f{i+1}' for i in range(40)])\n",
    "df['user'] = users\n",
    "df['session'] = sessions\n"
   ]
  },
  {
   "cell_type": "code",
   "execution_count": null,
   "metadata": {},
   "outputs": [],
   "source": [
    "\n",
    "summary_df = pd.DataFrame({\n",
    "    'n_signatures': [len(df)],\n",
    "    'n_users': [df['user'].nunique()],\n",
    "    'n_sessions': [df['session'].nunique()],\n",
    "    'features_per_signature': [df.shape[1] - 2]\n",
    "})\n",
    "print(summary_df.to_string(index=False))\n"
   ]
  },
  {
   "cell_type": "code",
   "execution_count": null,
   "id": "82397d0e",
   "metadata": {},
   "outputs": [],
   "source": [
    "\n",
    "fig, axes = plt.subplots(4, 10, figsize=(20, 8))\n",
    "for i in range(40):\n",
    "    sns.histplot(df[f'f{i+1}'], ax=axes[i//10, i%10], kde=True, bins=20, edgecolor='none')\n",
    "    axes[i//10, i%10].set_title(f'F{i+1}')\n",
    "plt.tight_layout()\n",
    "plt.savefig('../figures/global_feature_histograms.png', dpi=300)\n"
   ]
  },
  {
   "cell_type": "code",
   "execution_count": null,
   "id": "7557f510",
   "metadata": {},
   "outputs": [],
   "source": [
    "\n",
    "z = stats.zscore(df.iloc[:, :40], nan_policy='omit')\n",
    "outliers = (np.abs(z) > 3)\n",
    "outlier_counts = outliers.sum(axis=0)\n",
    "outlier_prop = outlier_counts / len(df)\n",
    "print(pd.DataFrame({'count': outlier_counts, 'proportion': outlier_prop}))\n",
    "plt.figure(figsize=(8,4))\n",
    "sns.barplot(x=np.arange(1,41), y=outlier_counts, color='C0')\n",
    "plt.ylabel('Outlier count')\n",
    "plt.xlabel('Feature')\n",
    "plt.tight_layout()\n",
    "plt.savefig('../figures/global_feature_outliers.png', dpi=300)\n"
   ]
  },
  {
   "cell_type": "code",
   "execution_count": null,
   "id": "660b4464",
   "metadata": {},
   "outputs": [],
   "source": [
    "\n",
    "mask = ~np.isfinite(df.iloc[:, :40])\n",
    "plt.figure(figsize=(10,6))\n",
    "sns.heatmap(mask, cbar=False)\n",
    "plt.xlabel('Feature')\n",
    "plt.ylabel('Signature index')\n",
    "plt.tight_layout()\n",
    "plt.savefig('../figures/global_missing_heatmap.png', dpi=300)\n"
   ]
  },
  {
   "cell_type": "code",
   "execution_count": null,
   "id": "6f0081db",
   "metadata": {},
   "outputs": [],
   "source": [
    "\n",
    "pear = df.iloc[:, :40].corr(method='pearson')\n",
    "spear = df.iloc[:, :40].corr(method='spearman')\n",
    "\n",
    "sns.clustermap(pear, cmap='coolwarm', center=0)\n",
    "plt.savefig('../figures/global_correlation_heatmap.png', dpi=300)\n",
    "\n",
    "sns.clustermap(spear, cmap='coolwarm', center=0)\n",
    "plt.savefig('../figures/global_correlation_spearman.png', dpi=300)\n"
   ]
  },
  {
   "cell_type": "code",
   "execution_count": null,
   "metadata": {},
   "outputs": [],
   "source": [
    "\n",
    "high_corr = pear.abs().where(np.triu(np.ones(pear.shape), k=1).astype(bool)).stack()\n",
    "redundant = high_corr[high_corr > 0.9].sort_values(ascending=False)\n",
    "print('Highly correlated feature pairs:')\n",
    "print(redundant.head())\n"
   ]
  }
 ],
 "metadata": {
  "kernelspec": {
   "display_name": "Python 3",
   "language": "python",
   "name": "python3"
  },
  "language_info": {
   "name": "python",
   "pygments_lexer": "ipython3"
  }
 },
 "nbformat": 4,
 "nbformat_minor": 5
}