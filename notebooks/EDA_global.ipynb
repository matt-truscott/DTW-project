{
 "cells": [
  {
   "cell_type": "markdown",
   "id": "f554d349",
   "metadata": {},
   "source": [
    "# Global Features EDA"
   ]
  },
  {
   "cell_type": "code",
   "execution_count": null,
   "id": "04f0e4d4",
   "metadata": {},
   "outputs": [],
   "source": [
    "import sys\n",
    "from pathlib import Path\n",
    "import matplotlib.pyplot as plt\n",
    "import numpy as np\n",
    "import scipy.io as sio\n",
    "\n",
    "project_root = Path().cwd().parent\n",
    "sys.path.insert(0, str(project_root))\n",
    "from src.displayData import inspect_mat_file\n"
   ]
  },
  {
   "cell_type": "code",
   "execution_count": null,
   "id": "426b226d",
   "metadata": {},
   "outputs": [],
   "source": [
    "mat_path = project_root / 'tests' / 'testData' / 'GlobalFeatures' / 'u1001s0001_sg0001.mat'\n",
    "features = inspect_mat_file(mat_path)\n",
    "vec = features.get('globalFeatures')\n",
    "if vec is not None:\n",
    "    print('Vector length:', len(vec))\n",
    "    print('Mean:', np.mean(vec))\n",
    "    plt.figure()\n",
    "    plt.plot(vec)\n",
    "    plt.xlabel('Index')\n",
    "    plt.ylabel('Value')\n",
    "    plt.title('Global feature values')\n",
    "    plt.show()\n",
    "else:\n",
    "    print('File not found or data missing')\n"
   ]
  }
 ],
 "metadata": {},
 "nbformat": 4,
 "nbformat_minor": 5
}
