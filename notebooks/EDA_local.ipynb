{
 "cells": [
  {
   "cell_type": "markdown",
   "id": "8054f922",
   "metadata": {},
   "source": [
    "# Local Functions EDA"
   ]
  },
  {
   "cell_type": "code",
   "execution_count": null,
   "id": "5edb243f",
   "metadata": {},
   "outputs": [],
   "source": [
    "import sys\n",
    "from pathlib import Path\n",
    "import matplotlib.pyplot as plt\n",
    "import numpy as np\n",
    "import scipy.io as sio\n",
    "\n",
    "project_root = Path().cwd().parent\n",
    "sys.path.insert(0, str(project_root))\n",
    "from src.displayData import inspect_mat_file\n"
   ]
  },
  {
   "cell_type": "code",
   "execution_count": null,
   "id": "8e0417a6",
   "metadata": {},
   "outputs": [],
   "source": [
    "mat_path = project_root / 'tests' / 'testData' / 'LocalFunctions' / 'u1001s0001_sg0001.mat'\n",
    "features = inspect_mat_file(mat_path)\n",
    "mat = features.get('localFunctions')\n",
    "if mat is not None:\n",
    "    print('Matrix shape:', mat.shape)\n",
    "    plt.figure()\n",
    "    plt.plot(mat[:,0], mat[:,1])\n",
    "    plt.xlabel('X')\n",
    "    plt.ylabel('Y')\n",
    "    plt.title('First two coordinates')\n",
    "    plt.show()\n",
    "else:\n",
    "    print('File not found or data missing')\n"
   ]
  }
 ],
 "metadata": {},
 "nbformat": 4,
 "nbformat_minor": 5
}
