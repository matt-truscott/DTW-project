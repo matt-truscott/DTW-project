{
 "cells": [
  {
   "cell_type": "markdown",
   "id": "1c9b36f6",
   "metadata": {},
   "source": [
    "# Local Functions EDA"
   ]
  },
  {
   "cell_type": "code",
   "execution_count": null,
   "id": "407332ee",
   "metadata": {},
   "outputs": [],
   "source": [
    "\n",
    "import re\n",
    "from pathlib import Path\n",
    "import numpy as np\n",
    "import pandas as pd\n",
    "import matplotlib.pyplot as plt\n",
    "import seaborn as sns\n",
    "from scipy import io\n",
    "\n",
    "%matplotlib inline\n",
    "\n",
    "local_dir = Path('../data/raw/LocalFunctions')\n",
    "files = sorted(local_dir.glob('*.mat'))\n",
    "\n",
    "def load_local(path):\n",
    "    return io.loadmat(path, squeeze_me=True)['localFunctions']\n"
   ]
  },
  {
   "cell_type": "code",
   "execution_count": null,
   "id": "46ad8238",
   "metadata": {},
   "outputs": [],
   "source": [
    "\n",
    "pattern = re.compile(r'u(\\d+)s(\\d+)')\n",
    "lengths = []\n",
    "for fp in files:\n",
    "    data = load_local(fp)\n",
    "    n = data.shape[0] if data is not None else 0\n",
    "    user, session = pattern.search(fp.stem).groups()\n",
    "    lengths.append({'user': user, 'session': session, 'length': n, 'file': fp.stem})\n",
    "length_df = pd.DataFrame(lengths)\n"
   ]
  },
  {
   "cell_type": "code",
   "execution_count": null,
   "metadata": {},
   "outputs": [],
   "source": [
    "\n",
    "print(f\"Total signatures: {len(length_df)} from {length_df['user'].nunique()} users\")\n",
    "print(length_df[\"length\"].describe())\n"
   ]
  },
  {
   "cell_type": "code",
   "execution_count": null,
   "id": "efef9310",
   "metadata": {},
   "outputs": [],
   "source": [
    "\n",
    "plt.figure(figsize=(10,6))\n",
    "sns.violinplot(x='user', y='length', data=length_df, inner='quartile')\n",
    "plt.tight_layout()\n",
    "plt.savefig('../figures/local_length_violin.png', dpi=300)\n"
   ]
  },
  {
   "cell_type": "code",
   "execution_count": null,
   "id": "73d0d829",
   "metadata": {},
   "outputs": [],
   "source": [
    "\n",
    "summary = length_df.groupby('user')['length'].agg(['mean','std','min','max'])\n",
    "summary['range'] = summary['max'] - summary['min']\n",
    "print(summary)\n"
   ]
  },
  {
   "cell_type": "code",
   "execution_count": null,
   "id": "7e70fad3",
   "metadata": {},
   "outputs": [],
   "source": [
    "\n",
    "# optional link to global feature (assumes matching filenames exist)\n",
    "from scipy import io\n",
    "from pathlib import Path\n",
    "\n",
    "global_dir = Path('../data/processed/GlobalFeatures')\n",
    "get_global = lambda stem: io.loadmat(global_dir / f'{stem}.mat', squeeze_me=True)['globalFeatures'][0] if (global_dir / f'{stem}.mat').exists() else np.nan\n",
    "length_df['duration'] = [get_global(s) for s in length_df['file']]\n",
    "\n",
    "plt.figure()\n",
    "sns.scatterplot(x='duration', y='length', data=length_df)\n",
    "plt.xlabel('Global feature 1 (duration)')\n",
    "plt.ylabel('Sequence length')\n",
    "plt.tight_layout()\n",
    "plt.savefig('../figures/length_vs_duration.png', dpi=300)\n"
   ]
  }
 ],
 "metadata": {
  "kernelspec": {
   "display_name": "Python 3",
   "language": "python",
   "name": "python3"
  },
  "language_info": {
   "name": "python",
   "pygments_lexer": "ipython3"
  }
 },
 "nbformat": 4,
 "nbformat_minor": 5
}