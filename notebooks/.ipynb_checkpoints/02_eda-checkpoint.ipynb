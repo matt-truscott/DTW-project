{
 "cells": [
  {
   "cell_type": "code",
   "execution_count": 1,
   "id": "1916c613",
   "metadata": {},
   "outputs": [],
   "source": [
    "# 0.1) point your kernel at the project’s src/ folder\n",
    "import sys\n",
    "from pathlib import Path\n",
    "project_root = Path().cwd().parent\n",
    "sys.path.insert(0, str(project_root / \"src\"))\n",
    "\n",
    "# 0.2) common imports\n",
    "import numpy as np\n",
    "import pandas as pd\n",
    "import matplotlib.pyplot as plt\n",
    "%matplotlib inline\n",
    "\n",
    "# 0.3) define your data tree\n",
    "RAW_ROOT   = project_root / \"data\" / \"raw\"\n",
    "PROC_ROOT  = project_root / \"data\" / \"processed\"\n"
   ]
  },
  {
   "cell_type": "code",
   "execution_count": 2,
   "id": "a141f085",
   "metadata": {},
   "outputs": [],
   "source": [
    "import re\n",
    "from pathlib import Path\n",
    "import numpy as np\n",
    "import pandas as pd\n",
    "import matplotlib.pyplot as plt\n",
    "import seaborn as sns\n",
    "from scipy import io\n",
    "\n",
    "%matplotlib inline\n",
    "\n",
    "local_dir = Path('../data/raw/LocalFunctions')\n",
    "files = sorted(local_dir.glob('*.mat'))\n",
    "\n",
    "def load_local(path):\n",
    "    return io.loadmat(path, squeeze_me=True)['localFunctions']\n"
   ]
  },
  {
   "cell_type": "markdown",
   "id": "0b0ce156",
   "metadata": {},
   "source": [
    "# Local Functions EDA"
   ]
  },
  {
   "cell_type": "code",
   "execution_count": 3,
   "id": "01c3a798",
   "metadata": {},
   "outputs": [
    {
     "ename": "KeyboardInterrupt",
     "evalue": "",
     "output_type": "error",
     "traceback": [
      "\u001b[31m---------------------------------------------------------------------------\u001b[39m",
      "\u001b[31mKeyboardInterrupt\u001b[39m                         Traceback (most recent call last)",
      "\u001b[36mCell\u001b[39m\u001b[36m \u001b[39m\u001b[32mIn[3]\u001b[39m\u001b[32m, line 4\u001b[39m\n\u001b[32m      2\u001b[39m lengths = []\n\u001b[32m      3\u001b[39m \u001b[38;5;28;01mfor\u001b[39;00m fp \u001b[38;5;129;01min\u001b[39;00m files:\n\u001b[32m----> \u001b[39m\u001b[32m4\u001b[39m     data = \u001b[43mload_local\u001b[49m\u001b[43m(\u001b[49m\u001b[43mfp\u001b[49m\u001b[43m)\u001b[49m\n\u001b[32m      5\u001b[39m     n = data.shape[\u001b[32m0\u001b[39m] \u001b[38;5;28;01mif\u001b[39;00m data \u001b[38;5;129;01mis\u001b[39;00m \u001b[38;5;129;01mnot\u001b[39;00m \u001b[38;5;28;01mNone\u001b[39;00m \u001b[38;5;28;01melse\u001b[39;00m \u001b[32m0\u001b[39m\n\u001b[32m      6\u001b[39m     user, session = pattern.search(fp.stem).groups()\n",
      "\u001b[36mCell\u001b[39m\u001b[36m \u001b[39m\u001b[32mIn[2]\u001b[39m\u001b[32m, line 15\u001b[39m, in \u001b[36mload_local\u001b[39m\u001b[34m(path)\u001b[39m\n\u001b[32m     14\u001b[39m \u001b[38;5;28;01mdef\u001b[39;00m\u001b[38;5;250m \u001b[39m\u001b[34mload_local\u001b[39m(path):\n\u001b[32m---> \u001b[39m\u001b[32m15\u001b[39m     \u001b[38;5;28;01mreturn\u001b[39;00m \u001b[43mio\u001b[49m\u001b[43m.\u001b[49m\u001b[43mloadmat\u001b[49m\u001b[43m(\u001b[49m\u001b[43mpath\u001b[49m\u001b[43m,\u001b[49m\u001b[43m \u001b[49m\u001b[43msqueeze_me\u001b[49m\u001b[43m=\u001b[49m\u001b[38;5;28;43;01mTrue\u001b[39;49;00m\u001b[43m)\u001b[49m[\u001b[33m'\u001b[39m\u001b[33mlocalFunctions\u001b[39m\u001b[33m'\u001b[39m]\n",
      "\u001b[36mFile \u001b[39m\u001b[32mc:\\Users\\mattt\\miniconda3\\envs\\DTW-project\\Lib\\site-packages\\scipy\\io\\matlab\\_mio.py:233\u001b[39m, in \u001b[36mloadmat\u001b[39m\u001b[34m(file_name, mdict, appendmat, spmatrix, **kwargs)\u001b[39m\n\u001b[32m     88\u001b[39m \u001b[38;5;250m\u001b[39m\u001b[33;03m\"\"\"\u001b[39;00m\n\u001b[32m     89\u001b[39m \u001b[33;03mLoad MATLAB file.\u001b[39;00m\n\u001b[32m     90\u001b[39m \n\u001b[32m   (...)\u001b[39m\u001b[32m    230\u001b[39m \u001b[33;03m    3.14159265+3.14159265j])\u001b[39;00m\n\u001b[32m    231\u001b[39m \u001b[33;03m\"\"\"\u001b[39;00m\n\u001b[32m    232\u001b[39m variable_names = kwargs.pop(\u001b[33m'\u001b[39m\u001b[33mvariable_names\u001b[39m\u001b[33m'\u001b[39m, \u001b[38;5;28;01mNone\u001b[39;00m)\n\u001b[32m--> \u001b[39m\u001b[32m233\u001b[39m \u001b[43m\u001b[49m\u001b[38;5;28;43;01mwith\u001b[39;49;00m\u001b[43m \u001b[49m\u001b[43m_open_file_context\u001b[49m\u001b[43m(\u001b[49m\u001b[43mfile_name\u001b[49m\u001b[43m,\u001b[49m\u001b[43m \u001b[49m\u001b[43mappendmat\u001b[49m\u001b[43m)\u001b[49m\u001b[43m \u001b[49m\u001b[38;5;28;43;01mas\u001b[39;49;00m\u001b[43m \u001b[49m\u001b[43mf\u001b[49m\u001b[43m:\u001b[49m\n\u001b[32m    234\u001b[39m \u001b[43m    \u001b[49m\u001b[43mMR\u001b[49m\u001b[43m,\u001b[49m\u001b[43m \u001b[49m\u001b[43m_\u001b[49m\u001b[43m \u001b[49m\u001b[43m=\u001b[49m\u001b[43m \u001b[49m\u001b[43mmat_reader_factory\u001b[49m\u001b[43m(\u001b[49m\u001b[43mf\u001b[49m\u001b[43m,\u001b[49m\u001b[43m \u001b[49m\u001b[43m*\u001b[49m\u001b[43m*\u001b[49m\u001b[43mkwargs\u001b[49m\u001b[43m)\u001b[49m\n\u001b[32m    235\u001b[39m \u001b[43m    \u001b[49m\u001b[43mmatfile_dict\u001b[49m\u001b[43m \u001b[49m\u001b[43m=\u001b[49m\u001b[43m \u001b[49m\u001b[43mMR\u001b[49m\u001b[43m.\u001b[49m\u001b[43mget_variables\u001b[49m\u001b[43m(\u001b[49m\u001b[43mvariable_names\u001b[49m\u001b[43m)\u001b[49m\n",
      "\u001b[36mFile \u001b[39m\u001b[32mc:\\Users\\mattt\\miniconda3\\envs\\DTW-project\\Lib\\contextlib.py:137\u001b[39m, in \u001b[36m_GeneratorContextManager.__enter__\u001b[39m\u001b[34m(self)\u001b[39m\n\u001b[32m    135\u001b[39m \u001b[38;5;28;01mdel\u001b[39;00m \u001b[38;5;28mself\u001b[39m.args, \u001b[38;5;28mself\u001b[39m.kwds, \u001b[38;5;28mself\u001b[39m.func\n\u001b[32m    136\u001b[39m \u001b[38;5;28;01mtry\u001b[39;00m:\n\u001b[32m--> \u001b[39m\u001b[32m137\u001b[39m     \u001b[38;5;28;01mreturn\u001b[39;00m \u001b[38;5;28mnext\u001b[39m(\u001b[38;5;28mself\u001b[39m.gen)\n\u001b[32m    138\u001b[39m \u001b[38;5;28;01mexcept\u001b[39;00m \u001b[38;5;167;01mStopIteration\u001b[39;00m:\n\u001b[32m    139\u001b[39m     \u001b[38;5;28;01mraise\u001b[39;00m \u001b[38;5;167;01mRuntimeError\u001b[39;00m(\u001b[33m\"\u001b[39m\u001b[33mgenerator didn\u001b[39m\u001b[33m'\u001b[39m\u001b[33mt yield\u001b[39m\u001b[33m\"\u001b[39m) \u001b[38;5;28;01mfrom\u001b[39;00m\u001b[38;5;250m \u001b[39m\u001b[38;5;28;01mNone\u001b[39;00m\n",
      "\u001b[36mFile \u001b[39m\u001b[32mc:\\Users\\mattt\\miniconda3\\envs\\DTW-project\\Lib\\site-packages\\scipy\\io\\matlab\\_mio.py:17\u001b[39m, in \u001b[36m_open_file_context\u001b[39m\u001b[34m(file_like, appendmat, mode)\u001b[39m\n\u001b[32m     15\u001b[39m \u001b[38;5;129m@contextmanager\u001b[39m\n\u001b[32m     16\u001b[39m \u001b[38;5;28;01mdef\u001b[39;00m\u001b[38;5;250m \u001b[39m\u001b[34m_open_file_context\u001b[39m(file_like, appendmat, mode=\u001b[33m'\u001b[39m\u001b[33mrb\u001b[39m\u001b[33m'\u001b[39m):\n\u001b[32m---> \u001b[39m\u001b[32m17\u001b[39m     f, opened = \u001b[43m_open_file\u001b[49m\u001b[43m(\u001b[49m\u001b[43mfile_like\u001b[49m\u001b[43m,\u001b[49m\u001b[43m \u001b[49m\u001b[43mappendmat\u001b[49m\u001b[43m,\u001b[49m\u001b[43m \u001b[49m\u001b[43mmode\u001b[49m\u001b[43m)\u001b[49m\n\u001b[32m     18\u001b[39m     \u001b[38;5;28;01mtry\u001b[39;00m:\n\u001b[32m     19\u001b[39m         \u001b[38;5;28;01myield\u001b[39;00m f\n",
      "\u001b[36mFile \u001b[39m\u001b[32mc:\\Users\\mattt\\miniconda3\\envs\\DTW-project\\Lib\\site-packages\\scipy\\io\\matlab\\_mio.py:39\u001b[39m, in \u001b[36m_open_file\u001b[39m\u001b[34m(file_like, appendmat, mode)\u001b[39m\n\u001b[32m     36\u001b[39m     \u001b[38;5;28;01mreturn\u001b[39;00m file_like, \u001b[38;5;28;01mFalse\u001b[39;00m\n\u001b[32m     38\u001b[39m \u001b[38;5;28;01mtry\u001b[39;00m:\n\u001b[32m---> \u001b[39m\u001b[32m39\u001b[39m     \u001b[38;5;28;01mreturn\u001b[39;00m \u001b[38;5;28mopen\u001b[39m(file_like, mode), \u001b[38;5;28;01mTrue\u001b[39;00m\n\u001b[32m     40\u001b[39m \u001b[38;5;28;01mexcept\u001b[39;00m \u001b[38;5;167;01mOSError\u001b[39;00m \u001b[38;5;28;01mas\u001b[39;00m e:\n\u001b[32m     41\u001b[39m     \u001b[38;5;66;03m# Probably \"not found\"\u001b[39;00m\n\u001b[32m     42\u001b[39m     \u001b[38;5;28;01mif\u001b[39;00m \u001b[38;5;28misinstance\u001b[39m(file_like, \u001b[38;5;28mstr\u001b[39m):\n",
      "\u001b[31mKeyboardInterrupt\u001b[39m: "
     ]
    }
   ],
   "source": [
    "pattern = re.compile(r'u(\\d+)s(\\d+)')\n",
    "lengths = []\n",
    "for fp in files:\n",
    "    data = load_local(fp)\n",
    "    n = data.shape[0] if data is not None else 0\n",
    "    user, session = pattern.search(fp.stem).groups()\n",
    "    lengths.append({'user': user, 'session': session, 'length': n, 'file': fp.stem})\n",
    "length_df = pd.DataFrame(lengths)"
   ]
  },
  {
   "cell_type": "code",
   "execution_count": null,
   "id": "0bd4b59b",
   "metadata": {},
   "outputs": [],
   "source": [
    "print(f\"Total signatures: {len(length_df)} from {length_df['user'].nunique()} users\")\n",
    "print(length_df[\"length\"].describe())"
   ]
  },
  {
   "cell_type": "code",
   "execution_count": null,
   "id": "aee9dc7c",
   "metadata": {},
   "outputs": [],
   "source": [
    "plt.figure(figsize=(10,6))\n",
    "sns.violinplot(x='user', y='length', data=length_df, inner='quartile')\n",
    "plt.tight_layout()\n",
    "plt.savefig('../figures/local_length_violin.png', dpi=300)"
   ]
  },
  {
   "cell_type": "code",
   "execution_count": null,
   "id": "5cbb7b15",
   "metadata": {},
   "outputs": [],
   "source": [
    "summary = length_df.groupby('user')['length'].agg(['mean','std','min','max'])\n",
    "summary['range'] = summary['max'] - summary['min']\n",
    "print(summary)\n"
   ]
  },
  {
   "cell_type": "code",
   "execution_count": null,
   "id": "6dd04035",
   "metadata": {},
   "outputs": [],
   "source": [
    "# optional link to global feature (assumes matching filenames exist)\n",
    "from scipy import io\n",
    "from pathlib import Path\n",
    "\n",
    "global_dir = Path('../data/processed/GlobalFeatures')\n",
    "get_global = lambda stem: io.loadmat(global_dir / f'{stem}.mat', squeeze_me=True)['globalFeatures'][0] if (global_dir / f'{stem}.mat').exists() else np.nan\n",
    "length_df['duration'] = [get_global(s) for s in length_df['file']]\n",
    "\n",
    "plt.figure()\n",
    "sns.scatterplot(x='duration', y='length', data=length_df)\n",
    "plt.xlabel('Global feature 1 (duration)')\n",
    "plt.ylabel('Sequence length')\n",
    "plt.tight_layout()\n",
    "plt.savefig('../figures/length_vs_duration.png', dpi=300)"
   ]
  },
  {
   "cell_type": "markdown",
   "id": "0dac53e3",
   "metadata": {},
   "source": [
    "# Global Features EDA"
   ]
  },
  {
   "cell_type": "code",
   "execution_count": null,
   "id": "f4493904",
   "metadata": {},
   "outputs": [],
   "source": [
    "# --- imports -------------------------------------------------------------\n",
    "import re\n",
    "from pathlib import Path\n",
    "import numpy as np\n",
    "import pandas as pd\n",
    "\n",
    "import scipy.io as sio\n",
    "from scipy import stats\n",
    "\n",
    "import matplotlib.pyplot as plt\n",
    "import seaborn as sns\n",
    "\n",
    "sns.set_context(\"notebook\")\n",
    "sns.set_style(\"whitegrid\")"
   ]
  },
  {
   "cell_type": "code",
   "execution_count": null,
   "id": "65c08d55",
   "metadata": {},
   "outputs": [],
   "source": [
    "# --- paths ---------------------------------------------------------------\n",
    "# adjust if your notebook lives at .../notebooks/\n",
    "DATA_DIR = (Path.cwd().parent / \"data\" / \"raw\" / \"GlobalFeatures\").resolve()\n",
    "print(\"Looking for .mat files in:\", DATA_DIR)\n",
    "files = sorted(DATA_DIR.glob(\"*.mat\"))\n",
    "print(f\"Found {len(files)} files.\")\n",
    "\n",
    "# --- regex for user/session/sample --------------------------------------\n",
    "# example filename: u1005s0001_sg0001.mat\n",
    "FNAME_RE = re.compile(r\"u(\\d{4})s(\\d{4})_sg(\\d{4})\")\n",
    "\n",
    "def load_global(path: Path):\n",
    "    \"\"\"Return 1x40 float array of global features from a .mat file.\"\"\"\n",
    "    m = sio.loadmat(path, squeeze_me=True, struct_as_record=False)\n",
    "    if \"globalFeatures\" not in m:\n",
    "        raise KeyError(f\"'globalFeatures' not in {path.name}; keys={list(m.keys())}\")\n",
    "    arr = np.asarray(m[\"globalFeatures\"]).squeeze()\n",
    "    if arr.size != 40:\n",
    "        raise ValueError(f\"{path.name}: expected 40 features, got shape {arr.shape}\")\n",
    "    return arr.astype(float)\n",
    "\n",
    "records = []\n",
    "bad_files = []\n",
    "\n",
    "for p in files:\n",
    "    try:\n",
    "        gf = load_global(p)\n",
    "    except Exception as e:\n",
    "        print(f\"[SKIP] {p.name}: {e}\")\n",
    "        bad_files.append((p, e))\n",
    "        continue\n",
    "\n",
    "    # parse ids\n",
    "    m = FNAME_RE.match(p.stem)\n",
    "    if m:\n",
    "        uid, sess, samp = map(int, m.groups())\n",
    "    else:\n",
    "        uid = sess = samp = None\n",
    "\n",
    "    records.append((uid, sess, samp, *gf))\n",
    "\n",
    "# build DataFrame\n",
    "cols = [\"user\", \"session\", \"sample\"] + [f\"f{i+1}\" for i in range(40)]\n",
    "df = pd.DataFrame.from_records(records, columns=cols)\n",
    "\n",
    "print(f\"Loaded {len(df)} usable records; skipped {len(bad_files)} files.\")\n",
    "df.head()"
   ]
  },
  {
   "cell_type": "code",
   "execution_count": null,
   "id": "54b09e52",
   "metadata": {},
   "outputs": [],
   "source": [
    "summary_df = pd.DataFrame({\n",
    "    \"n_signatures\": [len(df)],\n",
    "    \"n_users\":      [df[\"user\"].nunique(dropna=True)],\n",
    "    \"n_sessions\":   [df[\"session\"].nunique(dropna=True)],\n",
    "    \"features_per_signature\": [40]   # fixed by design\n",
    "})\n",
    "print(summary_df.to_string(index=False))\n"
   ]
  },
  {
   "cell_type": "code",
   "execution_count": null,
   "id": "b709aae6",
   "metadata": {},
   "outputs": [],
   "source": [
    "fig, axes = plt.subplots(4, 10, figsize=(20, 8), constrained_layout=True)\n",
    "axes = axes.ravel()\n",
    "\n",
    "for i in range(40):\n",
    "    ax = axes[i]\n",
    "    sns.histplot(df[f\"f{i+1}\"], ax=ax, kde=True, bins=20, edgecolor=\"none\")\n",
    "    ax.set_title(f\"F{i+1}\", fontsize=8)\n",
    "    ax.tick_params(labelsize=6)\n",
    "\n",
    "# remove unused axes just in case (shouldn't happen)\n",
    "for j in range(40, len(axes)):\n",
    "    axes[j].axis(\"off\")\n",
    "\n",
    "out_path = (Path.cwd().parent / \"figures\" / \"global_feature_histograms.png\").resolve()\n",
    "out_path.parent.mkdir(parents=True, exist_ok=True)\n",
    "fig.savefig(out_path, dpi=300)\n",
    "print(\"Saved:\", out_path)\n",
    "plt.close(fig)\n"
   ]
  },
  {
   "cell_type": "code",
   "execution_count": null,
   "id": "2c609e32",
   "metadata": {},
   "outputs": [],
   "source": [
    "X = df.loc[:, [f\"f{i+1}\" for i in range(40)]].to_numpy(dtype=float)\n",
    "z = stats.zscore(X, nan_policy=\"omit\", axis=0)\n",
    "\n",
    "outliers = np.abs(z) > 3\n",
    "outlier_counts = outliers.sum(axis=0)\n",
    "outlier_prop   = outlier_counts / len(df)\n",
    "\n",
    "outlier_df = pd.DataFrame({\n",
    "    \"feature\": [f\"f{i+1}\" for i in range(40)],\n",
    "    \"count\": outlier_counts,\n",
    "    \"proportion\": outlier_prop\n",
    "})\n",
    "print(outlier_df)\n",
    "\n",
    "plt.figure(figsize=(10, 4))\n",
    "sns.barplot(x=\"feature\", y=\"count\", data=outlier_df, color=\"C0\")\n",
    "plt.xticks(rotation=90, fontsize=7)\n",
    "plt.ylabel(\"Outlier count (>3σ)\")\n",
    "plt.xlabel(\"Feature\")\n",
    "plt.tight_layout()\n",
    "out_path = (Path.cwd().parent / \"figures\" / \"global_feature_outliers.png\").resolve()\n",
    "plt.savefig(out_path, dpi=300)\n",
    "print(\"Saved:\", out_path)\n",
    "plt.close()\n"
   ]
  },
  {
   "cell_type": "code",
   "execution_count": null,
   "id": "41a4b8fe",
   "metadata": {},
   "outputs": [],
   "source": [
    "mask = ~np.isfinite(X)  # True where NaN/inf\n",
    "plt.figure(figsize=(10, 6))\n",
    "sns.heatmap(mask, cbar=False)\n",
    "plt.xlabel(\"Feature\")\n",
    "plt.ylabel(\"Signature index\")\n",
    "plt.title(\"Missing / non-finite values in Global Features\")\n",
    "plt.tight_layout()\n",
    "out_path = (Path.cwd().parent / \"figures\" / \"global_missing_heatmap.png\").resolve()\n",
    "plt.savefig(out_path, dpi=300)\n",
    "print(\"Saved:\", out_path)\n",
    "plt.close()\n"
   ]
  },
  {
   "cell_type": "code",
   "execution_count": null,
   "id": "b4b3eeb8",
   "metadata": {},
   "outputs": [],
   "source": [
    "feat_cols = [f\"f{i+1}\" for i in range(40)]\n",
    "pear  = df[feat_cols].corr(method=\"pearson\")\n",
    "spear = df[feat_cols].corr(method=\"spearman\")\n",
    "\n",
    "# Clustered heatmaps return a ClusterGrid; save via its fig\n",
    "cg1 = sns.clustermap(pear, cmap=\"coolwarm\", center=0, figsize=(10,10))\n",
    "out_path = (Path.cwd().parent / \"figures\" / \"global_correlation_heatmap.png\").resolve()\n",
    "cg1.fig.suptitle(\"Pearson correlation (clustered)\", y=1.02)\n",
    "cg1.fig.savefig(out_path, dpi=300, bbox_inches=\"tight\")\n",
    "plt.close(cg1.fig)\n",
    "\n",
    "cg2 = sns.clustermap(spear, cmap=\"coolwarm\", center=0, figsize=(10,10))\n",
    "out_path = (Path.cwd().parent / \"figures\" / \"global_correlation_spearman.png\").resolve()\n",
    "cg2.fig.suptitle(\"Spearman correlation (clustered)\", y=1.02)\n",
    "cg2.fig.savefig(out_path, dpi=300, bbox_inches=\"tight\")\n",
    "plt.close(cg2.fig)\n",
    "\n",
    "pear.shape, spear.shape\n"
   ]
  },
  {
   "cell_type": "code",
   "execution_count": null,
   "id": "f68962c7",
   "metadata": {},
   "outputs": [],
   "source": [
    "# upper triangle (excluding diagonal)\n",
    "tri = np.triu(np.ones_like(pear, dtype=bool), k=1)\n",
    "high_corr = pear.where(tri).abs().stack().sort_values(ascending=False)\n",
    "\n",
    "redundant = high_corr[high_corr > 0.9]\n",
    "print(\"Highly correlated feature pairs (|r| > 0.9):\")\n",
    "print(redundant)"
   ]
  }
 ],
 "metadata": {
  "kernelspec": {
   "display_name": "DTW-project",
   "language": "python",
   "name": "python3"
  },
  "language_info": {
   "codemirror_mode": {
    "name": "ipython",
    "version": 3
   },
   "file_extension": ".py",
   "mimetype": "text/x-python",
   "name": "python",
   "nbconvert_exporter": "python",
   "pygments_lexer": "ipython3",
   "version": "3.11.13"
  }
 },
 "nbformat": 4,
 "nbformat_minor": 5
}
