{
 "cells": [
  {
   "cell_type": "markdown",
   "id": "d62b1c4f",
   "metadata": {},
   "source": [
    "# 5) Baseline DTW Evaluation"
   ]
  },
  {
   "cell_type": "code",
   "execution_count": null,
   "id": "ebe1e3bf",
   "metadata": {},
   "outputs": [],
   "source": [
    "# %%\n",
    "import sys\n",
    "from pathlib import Path\n",
    "import pandas as pd\n",
    "import matplotlib.pyplot as plt\n",
    "\n",
    "# make sure `src/` is importable\n",
    "project_root = Path.cwd().parent\n",
    "sys.path.insert(0, str(project_root))\n",
    "\n",
    "# import our new evaluation functions\n",
    "from src.evaluation.evaluation import (\n",
    "    load_results,\n",
    "    compute_metrics,\n",
    "    plot_roc,\n",
    "    plot_det,\n",
    "    save_metrics,\n",
    ")\n",
    "\n",
    "# paths\n",
    "PAIRS_PATH   = project_root / \"data\" / \"pairs_meta.parquet\"\n",
    "CACHE_PATH   = project_root / \"data\" / \"dtw_cache.parquet\"\n",
    "FIGURES_DIR  = project_root / \"figures\"\n",
    "RESULTS_DIR  = project_root / \"results\"\n",
    "FIGURES_DIR.mkdir(parents=True, exist_ok=True)\n",
    "RESULTS_DIR.mkdir(parents=True, exist_ok=True)\n",
    "\n",
    "# %%  \n",
    "# 5.1) Load & merge\n",
    "df = load_results(PAIRS_PATH, CACHE_PATH)\n",
    "\n",
    "# 5.2) Compute metrics\n",
    "m = compute_metrics(df, score_col=\"d_raw\", label_col=\"label\")\n",
    "\n",
    "# 5.3) Plot, show, then save ROC\n",
    "fig, ax = plt.subplots(figsize=(6,6))\n",
    "plot_roc(m[\"fpr\"], m[\"tpr\"], m[\"auc\"], ax=ax)\n",
    "ax.set_title(\"Baseline ROC\")\n",
    "plt.tight_layout()\n",
    "plt.show()                     # ← this actually renders the figure inline\n",
    "roc_path = FIGURES_DIR / \"baseline_roc.png\"\n",
    "fig.savefig(roc_path, dpi=300, bbox_inches=\"tight\")\n",
    "plt.close(fig)\n",
    "print(f\"✅ Saved ROC curve to {roc_path}\")"
   ]
  },
  {
   "cell_type": "code",
   "execution_count": null,
   "id": "4e1365e6",
   "metadata": {},
   "outputs": [],
   "source": [
    "# 5.4) Plot, show, then save DET\n",
    "fig, ax = plt.subplots(figsize=(6,6))\n",
    "plot_det(m[\"fpr\"], 1 - m[\"tpr\"], ax=ax)\n",
    "ax.set_title(\"Baseline DET\")\n",
    "plt.tight_layout()\n",
    "plt.show()                     # ← render inline\n",
    "det_path = FIGURES_DIR / \"baseline_det.png\"\n",
    "fig.savefig(det_path, dpi=300, bbox_inches=\"tight\")\n",
    "plt.close(fig)\n",
    "print(f\"✅ Saved DET curve to {det_path}\")"
   ]
  },
  {
   "cell_type": "code",
   "execution_count": 3,
   "id": "d40f63a9",
   "metadata": {},
   "outputs": [],
   "source": [
    "# 5.5) Save scalar metrics\n",
    "scalar_metrics = {\n",
    "    \"AUC\":            float(m[\"auc\"]),\n",
    "    \"EER\":            float(m[\"eer\"]),\n",
    "    \"EER_threshold\":  float(m[\"eer_threshold\"])\n",
    "}\n",
    "save_metrics(scalar_metrics, RESULTS_DIR / \"baseline_metrics.json\")"
   ]
  },
  {
   "cell_type": "code",
   "execution_count": 4,
   "id": "dcad48ea",
   "metadata": {},
   "outputs": [
    {
     "name": "stdout",
     "output_type": "stream",
     "text": [
      "AUC: 0.0873\n",
      "EER: 0.8349  @ threshold 54.27948\n"
     ]
    },
    {
     "data": {
      "text/html": [
       "<div>\n",
       "<style scoped>\n",
       "    .dataframe tbody tr th:only-of-type {\n",
       "        vertical-align: middle;\n",
       "    }\n",
       "\n",
       "    .dataframe tbody tr th {\n",
       "        vertical-align: top;\n",
       "    }\n",
       "\n",
       "    .dataframe thead th {\n",
       "        text-align: right;\n",
       "    }\n",
       "</style>\n",
       "<table border=\"1\" class=\"dataframe\">\n",
       "  <thead>\n",
       "    <tr style=\"text-align: right;\">\n",
       "      <th></th>\n",
       "      <th>AUC</th>\n",
       "      <th>EER</th>\n",
       "      <th>EER_threshold</th>\n",
       "    </tr>\n",
       "  </thead>\n",
       "  <tbody>\n",
       "    <tr>\n",
       "      <th>0</th>\n",
       "      <td>0.087269</td>\n",
       "      <td>0.834896</td>\n",
       "      <td>54.279483</td>\n",
       "    </tr>\n",
       "  </tbody>\n",
       "</table>\n",
       "</div>"
      ],
      "text/plain": [
       "        AUC       EER  EER_threshold\n",
       "0  0.087269  0.834896      54.279483"
      ]
     },
     "execution_count": 4,
     "metadata": {},
     "output_type": "execute_result"
    }
   ],
   "source": [
    "# 5.6) Display summary\n",
    "print(f\"AUC: {m['auc']:.4f}\")\n",
    "print(f\"EER: {m['eer']:.4f}  @ threshold {m['eer_threshold']:.5f}\")\n",
    "\n",
    "pd.DataFrame([scalar_metrics])"
   ]
  }
 ],
 "metadata": {
  "kernelspec": {
   "display_name": "DTW-project",
   "language": "python",
   "name": "python3"
  },
  "language_info": {
   "codemirror_mode": {
    "name": "ipython",
    "version": 3
   },
   "file_extension": ".py",
   "mimetype": "text/x-python",
   "name": "python",
   "nbconvert_exporter": "python",
   "pygments_lexer": "ipython3",
   "version": "3.11.13"
  }
 },
 "nbformat": 4,
 "nbformat_minor": 5
}
