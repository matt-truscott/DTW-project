{
 "cells": [
  {
   "cell_type": "markdown",
   "id": "c9892ebd",
   "metadata": {},
   "source": [
    "# Combined EDA"
   ]
  },
  {
   "cell_type": "markdown",
   "id": "f373d59d",
   "metadata": {},
   "source": [
    "This notebook demonstrates loading both global and local features."
   ]
  },
  {
   "cell_type": "code",
   "execution_count": 1,
   "id": "381af309",
   "metadata": {},
   "outputs": [],
   "source": [
    "import sys\n",
    "from pathlib import Path\n",
    "import matplotlib.pyplot as plt\n",
    "import numpy as np\n",
    "import scipy.io as sio\n",
    "\n",
    "project_root = Path().cwd().parent\n",
    "sys.path.insert(0, str(project_root))\n",
    "from src.displayData import inspect_mat_file\n"
   ]
  },
  {
   "cell_type": "code",
   "execution_count": 3,
   "id": "ac30b03a",
   "metadata": {},
   "outputs": [
    {
     "name": "stdout",
     "output_type": "stream",
     "text": [
      "Loaded `u1001s0001_sg0001.mat` with scipy.io.loadmat:\n",
      "\n",
      "Variable `globalFeatures`:\n",
      "  • type = ndarray\n",
      "  • shape = (40,)\n",
      "  • rows = 40, columns = 1\n",
      "  • dtype = float64\n",
      "  • No headings stored (raw numeric array)\n",
      "  • Data:\n",
      "[0.49795 0.50036 0.49531 0.49521 0.50643 0.49331 0.5019  0.50435 0.5051\n",
      " 0.50592 0.5013  0.49842 0.50375 0.4946  0.49721 0.49481 0.49683 0.5081\n",
      " 0.50662 0.50199 0.49881 0.50143 0.50846 0.50128 0.50906 0.49839 0.49701\n",
      " 0.49255 0.50521 0.50544 0.49574 0.50276 0.50541 0.49614 0.49759 0.50879\n",
      " 0.49896 0.49794 0.5023  0.50061]\n",
      "------------------------------------------------------------\n",
      "Loaded `u1001s0001_sg0001.mat` with scipy.io.loadmat:\n",
      "\n",
      "Variable `localFunctions`:\n",
      "  • type = ndarray\n",
      "  • shape = (202, 9)\n",
      "  • rows = 202, columns = 9\n",
      "  • dtype = float64\n",
      "  • No headings stored (raw numeric array)\n",
      "  • Data:\n",
      "[[ 0.42159573  2.505688    1.01221014 ... -0.86870536  0.26766702\n",
      "  -0.65896672]\n",
      " [ 0.31184113  1.2142851   1.54131285 ... -0.70479621  0.36498804\n",
      "  -0.31062272]\n",
      " [ 0.03708605  0.90313746  1.67887955 ... -0.62710517  0.39396688\n",
      "  -0.17986294]\n",
      " ...\n",
      " [-3.2407873   0.44943385 -4.11744057 ...  2.42653175 -0.59004495\n",
      "   1.31731881]\n",
      " [-2.66984111 -0.50312712 -4.75765484 ...  2.6747641  -0.50252331\n",
      "   0.17804572]\n",
      " [-1.61847679 -1.2204268  -3.79468792 ...  2.78845831 -0.27844867\n",
      "  -0.73116732]]\n",
      "------------------------------------------------------------\n",
      "Global features shape: (40,)\n",
      "Local functions shape: (202, 9)\n"
     ]
    }
   ],
   "source": [
    "g_path = project_root / 'tests' / 'testData' / 'GlobalFeatures' / 'u1001s0001_sg0001.mat'\n",
    "l_path = project_root / 'tests' / 'testData' / 'LocalFunctions' / 'u1001s0001_sg0001.mat'\n",
    "\n",
    "g_feats = inspect_mat_file(g_path).get('globalFeatures')\n",
    "l_feats = inspect_mat_file(l_path).get('localFunctions')\n",
    "\n",
    "if g_feats is not None and l_feats is not None:\n",
    "    print('Global features shape:', g_feats.shape)\n",
    "    print('Local functions shape:', l_feats.shape)\n",
    "else:\n",
    "    print('Missing data files')\n"
   ]
  }
 ],
 "metadata": {
  "kernelspec": {
   "display_name": "DTW-project",
   "language": "python",
   "name": "python3"
  },
  "language_info": {
   "codemirror_mode": {
    "name": "ipython",
    "version": 3
   },
   "file_extension": ".py",
   "mimetype": "text/x-python",
   "name": "python",
   "nbconvert_exporter": "python",
   "pygments_lexer": "ipython3",
   "version": "3.11.13"
  }
 },
 "nbformat": 4,
 "nbformat_minor": 5
}
