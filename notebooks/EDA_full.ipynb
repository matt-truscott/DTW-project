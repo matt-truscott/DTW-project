{
 "cells": [
  {
   "cell_type": "markdown",
   "id": "c9892ebd",
   "metadata": {},
   "source": [
    "# Combined EDA"
   ]
  },
  {
   "cell_type": "markdown",
   "id": "f373d59d",
   "metadata": {},
   "source": [
    "This notebook demonstrates loading both global and local features."
   ]
  },
  {
   "cell_type": "code",
   "execution_count": null,
   "id": "381af309",
   "metadata": {},
   "outputs": [],
   "source": [
    "import sys\n",
    "from pathlib import Path\n",
    "import matplotlib.pyplot as plt\n",
    "import numpy as np\n",
    "import scipy.io as sio\n",
    "\n",
    "project_root = Path().cwd().parent\n",
    "sys.path.insert(0, str(project_root))\n",
    "from src.displayData import inspect_mat_file\n"
   ]
  },
  {
   "cell_type": "code",
   "execution_count": null,
   "id": "ac30b03a",
   "metadata": {},
   "outputs": [],
   "source": [
    "g_path = project_root / 'tests' / 'testData' / 'GlobalFeatures' / 'u1001s0001_sg0001.mat'\n",
    "l_path = project_root / 'tests' / 'testData' / 'LocalFunctions' / 'u1001s0001_sg0001.mat'\n",
    "\n",
    "g_feats = inspect_mat_file(g_path).get('globalFeatures')\n",
    "l_feats = inspect_mat_file(l_path).get('localFunctions')\n",
    "\n",
    "if g_feats is not None and l_feats is not None:\n",
    "    print('Global features shape:', g_feats.shape)\n",
    "    print('Local functions shape:', l_feats.shape)\n",
    "else:\n",
    "    print('Missing data files')\n"
   ]
  }
 ],
 "metadata": {},
 "nbformat": 4,
 "nbformat_minor": 5
}
