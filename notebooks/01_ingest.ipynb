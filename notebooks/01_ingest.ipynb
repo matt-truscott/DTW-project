{
 "cells": [
  {
   "cell_type": "markdown",
   "id": "04a630ab",
   "metadata": {},
   "source": [
    "## 1) Organise the dataset"
   ]
  },
  {
   "cell_type": "code",
   "execution_count": 1,
   "id": "d94a5262",
   "metadata": {},
   "outputs": [],
   "source": [
    "# 1.1) Ensure src/ is importable and define roots\n",
    "import sys\n",
    "from pathlib import Path\n",
    "import pandas as pd\n",
    "\n",
    "project_root = Path.cwd().parent\n",
    "sys.path.insert(0, str(project_root))\n",
    "\n",
    "from src.data.importData import main as import_main\n",
    "\n",
    "RAW_ROOT  = project_root / \"data\" / \"raw\"\n",
    "PROC_ROOT = project_root / \"data\" / \"processed\""
   ]
  },
  {
   "cell_type": "code",
   "execution_count": 2,
   "id": "a4b6a2f1",
   "metadata": {},
   "outputs": [
    {
     "name": "stdout",
     "output_type": "stream",
     "text": [
      "✅ Found 400 user folders under c:\\Users\\mattt\\Skripsie\\Projects\\DTW-project\\data\\processed. Skipping import.\n",
      "u1001: GlobalFeatures=28 files, LocalFunctions=28 files\n",
      "u1002: GlobalFeatures=28 files, LocalFunctions=28 files\n",
      "u1003: GlobalFeatures=28 files, LocalFunctions=28 files\n"
     ]
    }
   ],
   "source": [
    "# 1.2) Skip copy if already organised\n",
    "user_dirs = [d for d in PROC_ROOT.glob(\"u*\") if d.is_dir()]\n",
    "if user_dirs:\n",
    "    print(f\"✅ Found {len(user_dirs)} user folders under {PROC_ROOT}. Skipping import.\")\n",
    "else:\n",
    "    print(\"⏳ No per-user folders found under processed → running import_main()\")\n",
    "    import_main(raw_root=RAW_ROOT, proc_root=PROC_ROOT)\n",
    "    user_dirs = [d for d in PROC_ROOT.glob(\"u*\") if d.is_dir()]\n",
    "    print(f\"✅ Created {len(user_dirs)} user folders under {PROC_ROOT}\")\n",
    "\n",
    "# 1.3) Sanity-check layout for first few users\n",
    "for u in sorted(user_dirs)[:3]:\n",
    "    gf = list((u/\"GlobalFeatures\").glob(\"*.mat\"))\n",
    "    lf = list((u/\"LocalFunctions\").glob(\"*.mat\"))\n",
    "    print(f\"{u.name}: GlobalFeatures={len(gf)} files, LocalFunctions={len(lf)} files\")"
   ]
  },
  {
   "cell_type": "markdown",
   "id": "5f2f8213",
   "metadata": {},
   "source": [
    "## 2) Build the catalog index"
   ]
  },
  {
   "cell_type": "code",
   "execution_count": 3,
   "id": "00327a58",
   "metadata": {},
   "outputs": [
    {
     "name": "stdout",
     "output_type": "stream",
     "text": [
      "⏳ Building new catalog…\n",
      "\n",
      "--- Catalog preview ---\n"
     ]
    },
    {
     "data": {
      "text/html": [
       "<div>\n",
       "<style scoped>\n",
       "    .dataframe tbody tr th:only-of-type {\n",
       "        vertical-align: middle;\n",
       "    }\n",
       "\n",
       "    .dataframe tbody tr th {\n",
       "        vertical-align: top;\n",
       "    }\n",
       "\n",
       "    .dataframe thead th {\n",
       "        text-align: right;\n",
       "    }\n",
       "</style>\n",
       "<table border=\"1\" class=\"dataframe\">\n",
       "  <thead>\n",
       "    <tr style=\"text-align: right;\">\n",
       "      <th></th>\n",
       "      <th>file_path</th>\n",
       "      <th>user_id</th>\n",
       "      <th>session_id</th>\n",
       "      <th>sample_id</th>\n",
       "      <th>feature</th>\n",
       "      <th>label</th>\n",
       "    </tr>\n",
       "  </thead>\n",
       "  <tbody>\n",
       "    <tr>\n",
       "      <th>0</th>\n",
       "      <td>u1001\\GlobalFeatures\\u1001s0001_sg0001.mat</td>\n",
       "      <td>1001</td>\n",
       "      <td>1</td>\n",
       "      <td>1</td>\n",
       "      <td>globalfeatures</td>\n",
       "      <td>genuine</td>\n",
       "    </tr>\n",
       "    <tr>\n",
       "      <th>1</th>\n",
       "      <td>u1001\\GlobalFeatures\\u1001s0001_sg0002.mat</td>\n",
       "      <td>1001</td>\n",
       "      <td>1</td>\n",
       "      <td>2</td>\n",
       "      <td>globalfeatures</td>\n",
       "      <td>genuine</td>\n",
       "    </tr>\n",
       "    <tr>\n",
       "      <th>2</th>\n",
       "      <td>u1001\\GlobalFeatures\\u1001s0001_sg0003.mat</td>\n",
       "      <td>1001</td>\n",
       "      <td>1</td>\n",
       "      <td>3</td>\n",
       "      <td>globalfeatures</td>\n",
       "      <td>forgery</td>\n",
       "    </tr>\n",
       "    <tr>\n",
       "      <th>3</th>\n",
       "      <td>u1001\\GlobalFeatures\\u1001s0001_sg0004.mat</td>\n",
       "      <td>1001</td>\n",
       "      <td>1</td>\n",
       "      <td>4</td>\n",
       "      <td>globalfeatures</td>\n",
       "      <td>forgery</td>\n",
       "    </tr>\n",
       "    <tr>\n",
       "      <th>4</th>\n",
       "      <td>u1001\\GlobalFeatures\\u1001s0001_sg0005.mat</td>\n",
       "      <td>1001</td>\n",
       "      <td>1</td>\n",
       "      <td>5</td>\n",
       "      <td>globalfeatures</td>\n",
       "      <td>forgery</td>\n",
       "    </tr>\n",
       "  </tbody>\n",
       "</table>\n",
       "</div>"
      ],
      "text/plain": [
       "                                    file_path  user_id  session_id  sample_id  \\\n",
       "0  u1001\\GlobalFeatures\\u1001s0001_sg0001.mat     1001           1          1   \n",
       "1  u1001\\GlobalFeatures\\u1001s0001_sg0002.mat     1001           1          2   \n",
       "2  u1001\\GlobalFeatures\\u1001s0001_sg0003.mat     1001           1          3   \n",
       "3  u1001\\GlobalFeatures\\u1001s0001_sg0004.mat     1001           1          4   \n",
       "4  u1001\\GlobalFeatures\\u1001s0001_sg0005.mat     1001           1          5   \n",
       "\n",
       "          feature    label  \n",
       "0  globalfeatures  genuine  \n",
       "1  globalfeatures  genuine  \n",
       "2  globalfeatures  forgery  \n",
       "3  globalfeatures  forgery  \n",
       "4  globalfeatures  forgery  "
      ]
     },
     "metadata": {},
     "output_type": "display_data"
    },
    {
     "name": "stdout",
     "output_type": "stream",
     "text": [
      "\n",
      "--- Catalog info ---\n",
      "<class 'pandas.core.frame.DataFrame'>\n",
      "RangeIndex: 22400 entries, 0 to 22399\n",
      "Data columns (total 6 columns):\n",
      " #   Column      Non-Null Count  Dtype \n",
      "---  ------      --------------  ----- \n",
      " 0   file_path   22400 non-null  object\n",
      " 1   user_id     22400 non-null  int64 \n",
      " 2   session_id  22400 non-null  int64 \n",
      " 3   sample_id   22400 non-null  int64 \n",
      " 4   feature     22400 non-null  object\n",
      " 5   label       22400 non-null  object\n",
      "dtypes: int64(3), object(3)\n",
      "memory usage: 1.0+ MB\n",
      "None\n"
     ]
    }
   ],
   "source": [
    "from src.io.load_biosecurid import build_catalog\n",
    "import pandas as pd\n",
    "\n",
    "CATALOG_PATH = project_root / \"data\" / \"biosecurid_catalog.parquet\"\n",
    "\n",
    "# Build or load (but rebuild if empty)\n",
    "if CATALOG_PATH.exists():\n",
    "    df_catalog = pd.read_parquet(CATALOG_PATH)\n",
    "    if df_catalog.empty:\n",
    "        print(\"⚠️ Catalog is empty — rebuilding…\")\n",
    "        df_catalog = build_catalog(PROC_ROOT, CATALOG_PATH)\n",
    "    else:\n",
    "        print(\"✅ Loaded existing catalog.\")\n",
    "else:\n",
    "    print(\"⏳ Building new catalog…\")\n",
    "    df_catalog = build_catalog(PROC_ROOT, CATALOG_PATH)\n",
    "\n",
    "# Now inspect\n",
    "print(\"\\n--- Catalog preview ---\")\n",
    "display(df_catalog.head())\n",
    "print(\"\\n--- Catalog info ---\")\n",
    "print(df_catalog.info())"
   ]
  }
 ],
 "metadata": {
  "kernelspec": {
   "display_name": "DTW-project",
   "language": "python",
   "name": "python3"
  },
  "language_info": {
   "codemirror_mode": {
    "name": "ipython",
    "version": 3
   },
   "file_extension": ".py",
   "mimetype": "text/x-python",
   "name": "python",
   "nbconvert_exporter": "python",
   "pygments_lexer": "ipython3",
   "version": "3.11.13"
  }
 },
 "nbformat": 4,
 "nbformat_minor": 5
}
