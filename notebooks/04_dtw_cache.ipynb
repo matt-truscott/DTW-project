{
 "cells": [
  {
   "cell_type": "markdown",
   "id": "fd028118",
   "metadata": {},
   "source": [
    "## 4) Compute & Cache DTW Distances"
   ]
  },
  {
   "cell_type": "code",
   "execution_count": 1,
   "id": "d3849a59",
   "metadata": {},
   "outputs": [
    {
     "name": "stdout",
     "output_type": "stream",
     "text": [
      "Pairs: True Catalog: True\n",
      "Total cached pairs: 38,400\n",
      "\n",
      "--- Cache preview ---\n"
     ]
    },
    {
     "data": {
      "application/vnd.microsoft.datawrangler.viewer.v0+json": {
       "columns": [
        {
         "name": "index",
         "rawType": "int64",
         "type": "integer"
        },
        {
         "name": "pair_id",
         "rawType": "int64",
         "type": "integer"
        },
        {
         "name": "label",
         "rawType": "int64",
         "type": "integer"
        },
        {
         "name": "d_raw",
         "rawType": "float64",
         "type": "float"
        },
        {
         "name": "d_bound",
         "rawType": "float64",
         "type": "float"
        },
        {
         "name": "path_len",
         "rawType": "int64",
         "type": "integer"
        },
        {
         "name": "len_ref",
         "rawType": "int64",
         "type": "integer"
        },
        {
         "name": "len_qry",
         "rawType": "int64",
         "type": "integer"
        }
       ],
       "ref": "235f57ca-4c68-4265-9d8f-f9f1552bc00a",
       "rows": [
        [
         "0",
         "0",
         "0",
         "90.08862106736127",
         "91.12594165803543",
         "1205",
         "493",
         "1124"
        ],
        [
         "1",
         "1",
         "1",
         "33.710096108682926",
         "33.722913115373274",
         "522",
         "469",
         "476"
        ],
        [
         "2",
         "2",
         "0",
         "99.44335903341376",
         "99.44335903341376",
         "1616",
         "596",
         "1586"
        ],
        [
         "3",
         "3",
         "0",
         "85.10173522032635",
         "85.10173522032635",
         "1189",
         "495",
         "1160"
        ],
        [
         "4",
         "4",
         "0",
         "67.82262794962354",
         "67.82262794962354",
         "661",
         "226",
         "652"
        ]
       ],
       "shape": {
        "columns": 7,
        "rows": 5
       }
      },
      "text/html": [
       "<div>\n",
       "<style scoped>\n",
       "    .dataframe tbody tr th:only-of-type {\n",
       "        vertical-align: middle;\n",
       "    }\n",
       "\n",
       "    .dataframe tbody tr th {\n",
       "        vertical-align: top;\n",
       "    }\n",
       "\n",
       "    .dataframe thead th {\n",
       "        text-align: right;\n",
       "    }\n",
       "</style>\n",
       "<table border=\"1\" class=\"dataframe\">\n",
       "  <thead>\n",
       "    <tr style=\"text-align: right;\">\n",
       "      <th></th>\n",
       "      <th>pair_id</th>\n",
       "      <th>label</th>\n",
       "      <th>d_raw</th>\n",
       "      <th>d_bound</th>\n",
       "      <th>path_len</th>\n",
       "      <th>len_ref</th>\n",
       "      <th>len_qry</th>\n",
       "    </tr>\n",
       "  </thead>\n",
       "  <tbody>\n",
       "    <tr>\n",
       "      <th>0</th>\n",
       "      <td>0</td>\n",
       "      <td>0</td>\n",
       "      <td>90.088621</td>\n",
       "      <td>91.125942</td>\n",
       "      <td>1205</td>\n",
       "      <td>493</td>\n",
       "      <td>1124</td>\n",
       "    </tr>\n",
       "    <tr>\n",
       "      <th>1</th>\n",
       "      <td>1</td>\n",
       "      <td>1</td>\n",
       "      <td>33.710096</td>\n",
       "      <td>33.722913</td>\n",
       "      <td>522</td>\n",
       "      <td>469</td>\n",
       "      <td>476</td>\n",
       "    </tr>\n",
       "    <tr>\n",
       "      <th>2</th>\n",
       "      <td>2</td>\n",
       "      <td>0</td>\n",
       "      <td>99.443359</td>\n",
       "      <td>99.443359</td>\n",
       "      <td>1616</td>\n",
       "      <td>596</td>\n",
       "      <td>1586</td>\n",
       "    </tr>\n",
       "    <tr>\n",
       "      <th>3</th>\n",
       "      <td>3</td>\n",
       "      <td>0</td>\n",
       "      <td>85.101735</td>\n",
       "      <td>85.101735</td>\n",
       "      <td>1189</td>\n",
       "      <td>495</td>\n",
       "      <td>1160</td>\n",
       "    </tr>\n",
       "    <tr>\n",
       "      <th>4</th>\n",
       "      <td>4</td>\n",
       "      <td>0</td>\n",
       "      <td>67.822628</td>\n",
       "      <td>67.822628</td>\n",
       "      <td>661</td>\n",
       "      <td>226</td>\n",
       "      <td>652</td>\n",
       "    </tr>\n",
       "  </tbody>\n",
       "</table>\n",
       "</div>"
      ],
      "text/plain": [
       "   pair_id  label      d_raw    d_bound  path_len  len_ref  len_qry\n",
       "0        0      0  90.088621  91.125942      1205      493     1124\n",
       "1        1      1  33.710096  33.722913       522      469      476\n",
       "2        2      0  99.443359  99.443359      1616      596     1586\n",
       "3        3      0  85.101735  85.101735      1189      495     1160\n",
       "4        4      0  67.822628  67.822628       661      226      652"
      ]
     },
     "metadata": {},
     "output_type": "display_data"
    },
    {
     "name": "stdout",
     "output_type": "stream",
     "text": [
      "\n",
      "--- Cache info ---\n",
      "<class 'pandas.core.frame.DataFrame'>\n",
      "RangeIndex: 38400 entries, 0 to 38399\n",
      "Data columns (total 7 columns):\n",
      " #   Column    Non-Null Count  Dtype  \n",
      "---  ------    --------------  -----  \n",
      " 0   pair_id   38400 non-null  int64  \n",
      " 1   label     38400 non-null  int64  \n",
      " 2   d_raw     38400 non-null  float64\n",
      " 3   d_bound   38400 non-null  float64\n",
      " 4   path_len  38400 non-null  int64  \n",
      " 5   len_ref   38400 non-null  int64  \n",
      " 6   len_qry   38400 non-null  int64  \n",
      "dtypes: float64(2), int64(5)\n",
      "memory usage: 2.1 MB\n",
      "None\n"
     ]
    }
   ],
   "source": [
    "import sys\n",
    "from pathlib import Path\n",
    "import pandas as pd\n",
    "from IPython.display import display\n",
    "\n",
    "# 4.1) Ensure src/ is importable\n",
    "project_root = Path.cwd().parent\n",
    "sys.path.insert(0, str(project_root))\n",
    "\n",
    "# 4.2) Import the build_cache function\n",
    "from src.dtw.compute_dtw import build_cache\n",
    "\n",
    "# 4.3) Define paths\n",
    "PAIRS_PATH   = project_root / \"data\" / \"pairs_meta.parquet\"\n",
    "CATALOG_PATH = project_root / \"data\" / \"biosecurid_catalog.parquet\"\n",
    "CACHE_PATH   = project_root / \"data\" / \"dtw_cache.parquet\"\n",
    "\n",
    "print(\"Pairs:\", PAIRS_PATH.exists(), \"Catalog:\", CATALOG_PATH.exists())\n",
    "\n",
    "# %%  \n",
    "# 4.4) Run DTW cache build (this will skip already‐computed pair_id rows)\n",
    "build_cache(\n",
    "    pairs_path   = PAIRS_PATH,\n",
    "    cache_path   = CACHE_PATH,\n",
    "    chunk_size   = 5000,      # adjust based on memory / speed\n",
    "    backend      = None,      # None → pick best available automatically\n",
    "    window       = 10         # Sakoe‐Chiba window size for bounded DTW\n",
    ") \n",
    "\n",
    "# %%  \n",
    "# 4.5) Quick sanity check: peek at the first few rows\n",
    "df_cache = pd.read_parquet(CACHE_PATH)\n",
    "print(f\"Total cached pairs: {len(df_cache):,}\")\n",
    "\n",
    "print(\"\\n--- Cache preview ---\")\n",
    "display(df_cache.head())\n",
    "\n",
    "print(\"\\n--- Cache info ---\")\n",
    "print(df_cache.info())"
   ]
  }
 ],
 "metadata": {
  "kernelspec": {
   "display_name": "DTW-project",
   "language": "python",
   "name": "python3"
  },
  "language_info": {
   "codemirror_mode": {
    "name": "ipython",
    "version": 3
   },
   "file_extension": ".py",
   "mimetype": "text/x-python",
   "name": "python",
   "nbconvert_exporter": "python",
   "pygments_lexer": "ipython3",
   "version": "3.11.13"
  }
 },
 "nbformat": 4,
 "nbformat_minor": 5
}
