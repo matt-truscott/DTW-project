{
 "cells": [
  {
   "cell_type": "markdown",
   "id": "fd028118",
   "metadata": {},
   "source": [
    "## 4) Compute & Cache DTW Distances"
   ]
  },
  {
   "cell_type": "code",
   "execution_count": 1,
   "id": "d3849a59",
   "metadata": {},
   "outputs": [
    {
     "name": "stdout",
     "output_type": "stream",
     "text": [
      "Pairs: True Catalog: True\n"
     ]
    },
    {
     "ename": "TypeError",
     "evalue": "dtaidistance.dtw.warping_paths_fast() got multiple values for keyword argument 'use_ndim'",
     "output_type": "error",
     "traceback": [
      "\u001b[31m---------------------------------------------------------------------------\u001b[39m",
      "\u001b[31mTypeError\u001b[39m                                 Traceback (most recent call last)",
      "\u001b[36mCell\u001b[39m\u001b[36m \u001b[39m\u001b[32mIn[1]\u001b[39m\u001b[32m, line 22\u001b[39m\n\u001b[32m     18\u001b[39m \u001b[38;5;28mprint\u001b[39m(\u001b[33m\"\u001b[39m\u001b[33mPairs:\u001b[39m\u001b[33m\"\u001b[39m, PAIRS_PATH.exists(), \u001b[33m\"\u001b[39m\u001b[33mCatalog:\u001b[39m\u001b[33m\"\u001b[39m, CATALOG_PATH.exists())\n\u001b[32m     20\u001b[39m \u001b[38;5;66;03m# %%  \u001b[39;00m\n\u001b[32m     21\u001b[39m \u001b[38;5;66;03m# 4.4) Run DTW cache build (this will skip already‐computed pair_id rows)\u001b[39;00m\n\u001b[32m---> \u001b[39m\u001b[32m22\u001b[39m \u001b[43mbuild_cache\u001b[49m\u001b[43m(\u001b[49m\n\u001b[32m     23\u001b[39m \u001b[43m    \u001b[49m\u001b[43mpairs_path\u001b[49m\u001b[43m   \u001b[49m\u001b[43m=\u001b[49m\u001b[43m \u001b[49m\u001b[43mPAIRS_PATH\u001b[49m\u001b[43m,\u001b[49m\n\u001b[32m     24\u001b[39m \u001b[43m    \u001b[49m\u001b[43mcache_path\u001b[49m\u001b[43m   \u001b[49m\u001b[43m=\u001b[49m\u001b[43m \u001b[49m\u001b[43mCACHE_PATH\u001b[49m\u001b[43m,\u001b[49m\n\u001b[32m     25\u001b[39m \u001b[43m    \u001b[49m\u001b[43mchunk_size\u001b[49m\u001b[43m   \u001b[49m\u001b[43m=\u001b[49m\u001b[43m \u001b[49m\u001b[32;43m5000\u001b[39;49m\u001b[43m,\u001b[49m\u001b[43m      \u001b[49m\u001b[38;5;66;43;03m# adjust based on memory / speed\u001b[39;49;00m\n\u001b[32m     26\u001b[39m \u001b[43m    \u001b[49m\u001b[43mbackend\u001b[49m\u001b[43m      \u001b[49m\u001b[43m=\u001b[49m\u001b[43m \u001b[49m\u001b[38;5;28;43;01mNone\u001b[39;49;00m\u001b[43m,\u001b[49m\u001b[43m      \u001b[49m\u001b[38;5;66;43;03m# None → pick best available automatically\u001b[39;49;00m\n\u001b[32m     27\u001b[39m \u001b[43m    \u001b[49m\u001b[43mwindow\u001b[49m\u001b[43m       \u001b[49m\u001b[43m=\u001b[49m\u001b[43m \u001b[49m\u001b[32;43m10\u001b[39;49m\u001b[43m         \u001b[49m\u001b[38;5;66;43;03m# Sakoe‐Chiba window size for bounded DTW\u001b[39;49;00m\n\u001b[32m     28\u001b[39m \u001b[43m)\u001b[49m\n\u001b[32m     30\u001b[39m \u001b[38;5;66;03m# %%  \u001b[39;00m\n\u001b[32m     31\u001b[39m \u001b[38;5;66;03m# 4.5) Quick sanity check: peek at the first few rows\u001b[39;00m\n\u001b[32m     32\u001b[39m df_cache = pd.read_parquet(CACHE_PATH)\n",
      "\u001b[36mFile \u001b[39m\u001b[32mc:\\Users\\mattt\\Skripsie\\Projects\\DTW-project\\src\\dtw\\compute_dtw.py:154\u001b[39m, in \u001b[36mbuild_cache\u001b[39m\u001b[34m(pairs_path, cache_path, chunk_size, backend, window)\u001b[39m\n\u001b[32m    151\u001b[39m a = load_local(Path(row.pathA))\n\u001b[32m    152\u001b[39m b = load_local(Path(row.pathB))\n\u001b[32m--> \u001b[39m\u001b[32m154\u001b[39m d_raw, d_bound, plen, la, lb = \u001b[43mcompute_pair_dtw\u001b[49m\u001b[43m(\u001b[49m\n\u001b[32m    155\u001b[39m \u001b[43m    \u001b[49m\u001b[43ma\u001b[49m\u001b[43m,\u001b[49m\u001b[43m \u001b[49m\u001b[43mb\u001b[49m\u001b[43m,\u001b[49m\u001b[43m \u001b[49m\u001b[43mbackend\u001b[49m\u001b[43m=\u001b[49m\u001b[43mbackend\u001b[49m\u001b[43m,\u001b[49m\u001b[43m \u001b[49m\u001b[43mwindow\u001b[49m\u001b[43m=\u001b[49m\u001b[43mwindow\u001b[49m\n\u001b[32m    156\u001b[39m \u001b[43m\u001b[49m\u001b[43m)\u001b[49m\n\u001b[32m    158\u001b[39m records.append({\n\u001b[32m    159\u001b[39m     \u001b[33m\"\u001b[39m\u001b[33mpair_id\u001b[39m\u001b[33m\"\u001b[39m:  pid,\n\u001b[32m    160\u001b[39m     \u001b[33m\"\u001b[39m\u001b[33mlabel\u001b[39m\u001b[33m\"\u001b[39m:    \u001b[38;5;28mint\u001b[39m(row.label),\n\u001b[32m   (...)\u001b[39m\u001b[32m    165\u001b[39m     \u001b[33m\"\u001b[39m\u001b[33mlen_qry\u001b[39m\u001b[33m\"\u001b[39m:  lb,\n\u001b[32m    166\u001b[39m })\n\u001b[32m    168\u001b[39m \u001b[38;5;28;01mif\u001b[39;00m \u001b[38;5;28mlen\u001b[39m(records) >= chunk_size:\n",
      "\u001b[36mFile \u001b[39m\u001b[32mc:\\Users\\mattt\\Skripsie\\Projects\\DTW-project\\src\\dtw\\compute_dtw.py:72\u001b[39m, in \u001b[36mcompute_pair_dtw\u001b[39m\u001b[34m(a, b, backend, window)\u001b[39m\n\u001b[32m     70\u001b[39m x = a.astype(\u001b[38;5;28mfloat\u001b[39m)\n\u001b[32m     71\u001b[39m y = b.astype(\u001b[38;5;28mfloat\u001b[39m)\n\u001b[32m---> \u001b[39m\u001b[32m72\u001b[39m _, cost = \u001b[43mdtw_ndim\u001b[49m\u001b[43m.\u001b[49m\u001b[43mwarping_paths_fast\u001b[49m\u001b[43m(\u001b[49m\n\u001b[32m     73\u001b[39m \u001b[43m    \u001b[49m\u001b[43mx\u001b[49m\u001b[43m,\u001b[49m\u001b[43m \u001b[49m\u001b[43my\u001b[49m\u001b[43m,\u001b[49m\u001b[43m \u001b[49m\u001b[43muse_ndim\u001b[49m\u001b[43m=\u001b[49m\u001b[38;5;28;43;01mTrue\u001b[39;49;00m\n\u001b[32m     74\u001b[39m \u001b[43m\u001b[49m\u001b[43m)\u001b[49m\n\u001b[32m     75\u001b[39m path  = dtw_ndim.warping_path(x, y, use_ndim=\u001b[38;5;28;01mTrue\u001b[39;00m)\n\u001b[32m     76\u001b[39m d_raw = \u001b[38;5;28mfloat\u001b[39m(cost[-\u001b[32m1\u001b[39m, -\u001b[32m1\u001b[39m])\n",
      "\u001b[36mFile \u001b[39m\u001b[32mc:\\Users\\mattt\\miniconda3\\envs\\DTW-project\\Lib\\site-packages\\dtaidistance\\dtw_ndim.py:125\u001b[39m, in \u001b[36mwarping_paths_fast\u001b[39m\u001b[34m(*args, **kwargs)\u001b[39m\n\u001b[32m    119\u001b[39m \u001b[38;5;28;01mdef\u001b[39;00m\u001b[38;5;250m \u001b[39m\u001b[34mwarping_paths_fast\u001b[39m(*args, **kwargs):\n\u001b[32m    120\u001b[39m \u001b[38;5;250m    \u001b[39m\u001b[33;03m\"\"\"\u001b[39;00m\n\u001b[32m    121\u001b[39m \u001b[33;03m    Dynamic Time Warping (keep full matrix) using multidimensional sequences.\u001b[39;00m\n\u001b[32m    122\u001b[39m \n\u001b[32m    123\u001b[39m \u001b[33;03m    See :py:meth:`dtaidistance.dtw.warping_paths` for parameters.\u001b[39;00m\n\u001b[32m    124\u001b[39m \u001b[33;03m    \"\"\"\u001b[39;00m\n\u001b[32m--> \u001b[39m\u001b[32m125\u001b[39m     \u001b[38;5;28;01mreturn\u001b[39;00m dtw.warping_paths_fast(*args, use_ndim=\u001b[38;5;28;01mTrue\u001b[39;00m, **kwargs)\n",
      "\u001b[31mTypeError\u001b[39m: dtaidistance.dtw.warping_paths_fast() got multiple values for keyword argument 'use_ndim'"
     ]
    }
   ],
   "source": [
    "import sys\n",
    "from pathlib import Path\n",
    "import pandas as pd\n",
    "from IPython.display import display\n",
    "\n",
    "# 4.1) Ensure src/ is importable\n",
    "project_root = Path.cwd().parent\n",
    "sys.path.insert(0, str(project_root))\n",
    "\n",
    "# 4.2) Import the build_cache function\n",
    "from src.dtw.compute_dtw import build_cache\n",
    "\n",
    "# 4.3) Define paths\n",
    "PAIRS_PATH   = project_root / \"data\" / \"pairs_meta.parquet\"\n",
    "CATALOG_PATH = project_root / \"data\" / \"biosecurid_catalog.parquet\"\n",
    "CACHE_PATH   = project_root / \"data\" / \"dtw_cache.parquet\"\n",
    "\n",
    "print(\"Pairs:\", PAIRS_PATH.exists(), \"Catalog:\", CATALOG_PATH.exists())\n",
    "\n",
    "# %%  \n",
    "# 4.4) Run DTW cache build (this will skip already‐computed pair_id rows)\n",
    "build_cache(\n",
    "    pairs_path   = PAIRS_PATH,\n",
    "    cache_path   = CACHE_PATH,\n",
    "    chunk_size   = 5000,      # adjust based on memory / speed\n",
    "    backend      = None,      # None → pick best available automatically\n",
    "    window       = 10         # Sakoe‐Chiba window size for bounded DTW\n",
    ")\n",
    "\n",
    "# %%  \n",
    "# 4.5) Quick sanity check: peek at the first few rows\n",
    "df_cache = pd.read_parquet(CACHE_PATH)\n",
    "print(f\"Total cached pairs: {len(df_cache):,}\")\n",
    "\n",
    "print(\"\\n--- Cache preview ---\")\n",
    "display(df_cache.head())\n",
    "\n",
    "print(\"\\n--- Cache info ---\")\n",
    "print(df_cache.info())"
   ]
  }
 ],
 "metadata": {
  "kernelspec": {
   "display_name": "DTW-project",
   "language": "python",
   "name": "python3"
  },
  "language_info": {
   "codemirror_mode": {
    "name": "ipython",
    "version": 3
   },
   "file_extension": ".py",
   "mimetype": "text/x-python",
   "name": "python",
   "nbconvert_exporter": "python",
   "pygments_lexer": "ipython3",
   "version": "3.11.13"
  }
 },
 "nbformat": 4,
 "nbformat_minor": 5
}
