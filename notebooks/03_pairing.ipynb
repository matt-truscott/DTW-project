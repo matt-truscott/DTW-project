{
 "cells": [
  {
   "cell_type": "markdown",
   "id": "93c496a2",
   "metadata": {},
   "source": [
    "## 3) Generate Pair Metadata"
   ]
  },
  {
   "cell_type": "code",
   "execution_count": 1,
   "id": "eca52266",
   "metadata": {},
   "outputs": [],
   "source": [
    "import sys\n",
    "from pathlib import Path\n",
    "import pandas as pd\n",
    "\n",
    "project_root = Path.cwd().parent\n",
    "sys.path.insert(0, str(project_root))\n",
    "\n",
    "# 3.1) Core pairing functions\n",
    "from src.pairing.make_pairs import generate_pairs, balance_subsample\n",
    "\n",
    "# 3.2) Paths\n",
    "project_root = Path.cwd().parent\n",
    "CATALOG_PATH = project_root / \"data\" / \"biosecurid_catalog.parquet\"\n",
    "PAIRS_PATH   = project_root / \"data\" / \"pairs_meta.parquet\""
   ]
  },
  {
   "cell_type": "code",
   "execution_count": 2,
   "id": "c362b745",
   "metadata": {},
   "outputs": [
    {
     "name": "stdout",
     "output_type": "stream",
     "text": [
      "✅ Wrote 38,400 pairs → c:\\Users\\mattt\\Skripsie\\Projects\\DTW-project\\data\\pairs_meta.parquet\n",
      "\n",
      "--- Pairs preview ---\n"
     ]
    },
    {
     "data": {
      "application/vnd.microsoft.datawrangler.viewer.v0+json": {
       "columns": [
        {
         "name": "index",
         "rawType": "int64",
         "type": "integer"
        },
        {
         "name": "userA",
         "rawType": "int64",
         "type": "integer"
        },
        {
         "name": "sessionA",
         "rawType": "int64",
         "type": "integer"
        },
        {
         "name": "sampleA",
         "rawType": "int64",
         "type": "integer"
        },
        {
         "name": "pathA",
         "rawType": "object",
         "type": "string"
        },
        {
         "name": "userB",
         "rawType": "int64",
         "type": "integer"
        },
        {
         "name": "sessionB",
         "rawType": "int64",
         "type": "integer"
        },
        {
         "name": "sampleB",
         "rawType": "int64",
         "type": "integer"
        },
        {
         "name": "pathB",
         "rawType": "object",
         "type": "string"
        },
        {
         "name": "label",
         "rawType": "int64",
         "type": "integer"
        }
       ],
       "ref": "566fd0a7-cea4-4ef2-b413-c21d16f25230",
       "rows": [
        [
         "0",
         "1116",
         "1",
         "6",
         "c:\\Users\\mattt\\Skripsie\\Projects\\DTW-project\\data\\processed\\u1116\\LocalFunctions\\u1116s0001_sg0006.mat",
         "1116",
         "1",
         "4",
         "c:\\Users\\mattt\\Skripsie\\Projects\\DTW-project\\data\\processed\\u1116\\LocalFunctions\\u1116s0001_sg0004.mat",
         "0"
        ],
        [
         "1",
         "1147",
         "3",
         "6",
         "c:\\Users\\mattt\\Skripsie\\Projects\\DTW-project\\data\\processed\\u1147\\LocalFunctions\\u1147s0003_sg0006.mat",
         "1147",
         "3",
         "7",
         "c:\\Users\\mattt\\Skripsie\\Projects\\DTW-project\\data\\processed\\u1147\\LocalFunctions\\u1147s0003_sg0007.mat",
         "1"
        ],
        [
         "2",
         "1336",
         "3",
         "2",
         "c:\\Users\\mattt\\Skripsie\\Projects\\DTW-project\\data\\processed\\u1336\\LocalFunctions\\u1336s0003_sg0002.mat",
         "1336",
         "3",
         "4",
         "c:\\Users\\mattt\\Skripsie\\Projects\\DTW-project\\data\\processed\\u1336\\LocalFunctions\\u1336s0003_sg0004.mat",
         "0"
        ],
        [
         "3",
         "1284",
         "4",
         "1",
         "c:\\Users\\mattt\\Skripsie\\Projects\\DTW-project\\data\\processed\\u1284\\LocalFunctions\\u1284s0004_sg0001.mat",
         "1284",
         "4",
         "5",
         "c:\\Users\\mattt\\Skripsie\\Projects\\DTW-project\\data\\processed\\u1284\\LocalFunctions\\u1284s0004_sg0005.mat",
         "0"
        ],
        [
         "4",
         "1127",
         "3",
         "6",
         "c:\\Users\\mattt\\Skripsie\\Projects\\DTW-project\\data\\processed\\u1127\\LocalFunctions\\u1127s0003_sg0006.mat",
         "1127",
         "3",
         "3",
         "c:\\Users\\mattt\\Skripsie\\Projects\\DTW-project\\data\\processed\\u1127\\LocalFunctions\\u1127s0003_sg0003.mat",
         "0"
        ]
       ],
       "shape": {
        "columns": 9,
        "rows": 5
       }
      },
      "text/html": [
       "<div>\n",
       "<style scoped>\n",
       "    .dataframe tbody tr th:only-of-type {\n",
       "        vertical-align: middle;\n",
       "    }\n",
       "\n",
       "    .dataframe tbody tr th {\n",
       "        vertical-align: top;\n",
       "    }\n",
       "\n",
       "    .dataframe thead th {\n",
       "        text-align: right;\n",
       "    }\n",
       "</style>\n",
       "<table border=\"1\" class=\"dataframe\">\n",
       "  <thead>\n",
       "    <tr style=\"text-align: right;\">\n",
       "      <th></th>\n",
       "      <th>userA</th>\n",
       "      <th>sessionA</th>\n",
       "      <th>sampleA</th>\n",
       "      <th>pathA</th>\n",
       "      <th>userB</th>\n",
       "      <th>sessionB</th>\n",
       "      <th>sampleB</th>\n",
       "      <th>pathB</th>\n",
       "      <th>label</th>\n",
       "    </tr>\n",
       "  </thead>\n",
       "  <tbody>\n",
       "    <tr>\n",
       "      <th>0</th>\n",
       "      <td>1116</td>\n",
       "      <td>1</td>\n",
       "      <td>6</td>\n",
       "      <td>c:\\Users\\mattt\\Skripsie\\Projects\\DTW-project\\d...</td>\n",
       "      <td>1116</td>\n",
       "      <td>1</td>\n",
       "      <td>4</td>\n",
       "      <td>c:\\Users\\mattt\\Skripsie\\Projects\\DTW-project\\d...</td>\n",
       "      <td>0</td>\n",
       "    </tr>\n",
       "    <tr>\n",
       "      <th>1</th>\n",
       "      <td>1147</td>\n",
       "      <td>3</td>\n",
       "      <td>6</td>\n",
       "      <td>c:\\Users\\mattt\\Skripsie\\Projects\\DTW-project\\d...</td>\n",
       "      <td>1147</td>\n",
       "      <td>3</td>\n",
       "      <td>7</td>\n",
       "      <td>c:\\Users\\mattt\\Skripsie\\Projects\\DTW-project\\d...</td>\n",
       "      <td>1</td>\n",
       "    </tr>\n",
       "    <tr>\n",
       "      <th>2</th>\n",
       "      <td>1336</td>\n",
       "      <td>3</td>\n",
       "      <td>2</td>\n",
       "      <td>c:\\Users\\mattt\\Skripsie\\Projects\\DTW-project\\d...</td>\n",
       "      <td>1336</td>\n",
       "      <td>3</td>\n",
       "      <td>4</td>\n",
       "      <td>c:\\Users\\mattt\\Skripsie\\Projects\\DTW-project\\d...</td>\n",
       "      <td>0</td>\n",
       "    </tr>\n",
       "    <tr>\n",
       "      <th>3</th>\n",
       "      <td>1284</td>\n",
       "      <td>4</td>\n",
       "      <td>1</td>\n",
       "      <td>c:\\Users\\mattt\\Skripsie\\Projects\\DTW-project\\d...</td>\n",
       "      <td>1284</td>\n",
       "      <td>4</td>\n",
       "      <td>5</td>\n",
       "      <td>c:\\Users\\mattt\\Skripsie\\Projects\\DTW-project\\d...</td>\n",
       "      <td>0</td>\n",
       "    </tr>\n",
       "    <tr>\n",
       "      <th>4</th>\n",
       "      <td>1127</td>\n",
       "      <td>3</td>\n",
       "      <td>6</td>\n",
       "      <td>c:\\Users\\mattt\\Skripsie\\Projects\\DTW-project\\d...</td>\n",
       "      <td>1127</td>\n",
       "      <td>3</td>\n",
       "      <td>3</td>\n",
       "      <td>c:\\Users\\mattt\\Skripsie\\Projects\\DTW-project\\d...</td>\n",
       "      <td>0</td>\n",
       "    </tr>\n",
       "  </tbody>\n",
       "</table>\n",
       "</div>"
      ],
      "text/plain": [
       "   userA  sessionA  sampleA  \\\n",
       "0   1116         1        6   \n",
       "1   1147         3        6   \n",
       "2   1336         3        2   \n",
       "3   1284         4        1   \n",
       "4   1127         3        6   \n",
       "\n",
       "                                               pathA  userB  sessionB  \\\n",
       "0  c:\\Users\\mattt\\Skripsie\\Projects\\DTW-project\\d...   1116         1   \n",
       "1  c:\\Users\\mattt\\Skripsie\\Projects\\DTW-project\\d...   1147         3   \n",
       "2  c:\\Users\\mattt\\Skripsie\\Projects\\DTW-project\\d...   1336         3   \n",
       "3  c:\\Users\\mattt\\Skripsie\\Projects\\DTW-project\\d...   1284         4   \n",
       "4  c:\\Users\\mattt\\Skripsie\\Projects\\DTW-project\\d...   1127         3   \n",
       "\n",
       "   sampleB                                              pathB  label  \n",
       "0        4  c:\\Users\\mattt\\Skripsie\\Projects\\DTW-project\\d...      0  \n",
       "1        7  c:\\Users\\mattt\\Skripsie\\Projects\\DTW-project\\d...      1  \n",
       "2        4  c:\\Users\\mattt\\Skripsie\\Projects\\DTW-project\\d...      0  \n",
       "3        5  c:\\Users\\mattt\\Skripsie\\Projects\\DTW-project\\d...      0  \n",
       "4        3  c:\\Users\\mattt\\Skripsie\\Projects\\DTW-project\\d...      0  "
      ]
     },
     "metadata": {},
     "output_type": "display_data"
    },
    {
     "name": "stdout",
     "output_type": "stream",
     "text": [
      "\n",
      "--- Pair counts by label ---\n",
      "label\n",
      "0    19200\n",
      "1    19200\n",
      "Name: count, dtype: int64\n"
     ]
    }
   ],
   "source": [
    "# 3.3) Load the catalog\n",
    "catalog = pd.read_parquet(CATALOG_PATH)\n",
    "\n",
    "# 3.4) Select only the local-function entries and build full paths\n",
    "loc = catalog[catalog.feature == \"localfunctions\"].copy()\n",
    "loc[\"path\"] = loc[\"file_path\"].apply(lambda p: str(project_root / \"data\" / \"processed\" / p))\n",
    "\n",
    "# %%  \n",
    "# 3.5) Generate all labelled pairs (genuine=1, forgery=0)\n",
    "pairs = generate_pairs(loc, path_col=\"path\", weak_forgery=False)\n",
    "\n",
    "# 3.6) Balance & subsample to at most 200 000 pairs\n",
    "pairs = balance_subsample(pairs, max_pairs=200_000, random_state=42)\n",
    "\n",
    "# 3.7) Persist for downstream steps\n",
    "pairs.to_parquet(PAIRS_PATH, index=False)\n",
    "print(f\"✅ Wrote {len(pairs):,} pairs → {PAIRS_PATH}\")\n",
    "\n",
    "# %%  \n",
    "# 3.8) Sanity check\n",
    "print(\"\\n--- Pairs preview ---\")\n",
    "display(pairs.head())\n",
    "\n",
    "print(\"\\n--- Pair counts by label ---\")\n",
    "print(pairs.label.value_counts())"
   ]
  }
 ],
 "metadata": {
  "kernelspec": {
   "display_name": "DTW-project",
   "language": "python",
   "name": "python3"
  },
  "language_info": {
   "codemirror_mode": {
    "name": "ipython",
    "version": 3
   },
   "file_extension": ".py",
   "mimetype": "text/x-python",
   "name": "python",
   "nbconvert_exporter": "python",
   "pygments_lexer": "ipython3",
   "version": "3.11.13"
  }
 },
 "nbformat": 4,
 "nbformat_minor": 5
}
